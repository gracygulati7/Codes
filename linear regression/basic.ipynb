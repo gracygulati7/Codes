{
 "cells": [
  {
   "cell_type": "code",
   "execution_count": null,
   "metadata": {},
   "outputs": [],
   "source": [
    "# ML Algorithm - linear regression\n",
    "# data -> ml -> finc/model/hypothesis -> unseen data se prediction of output generate hogi\n",
    "# different types of ml models- linear,logisitic sum regression etc.    \n",
    "# linear regression - regression is nothing but predicting the continuous values "
   ]
  }
 ],
 "metadata": {
  "language_info": {
   "name": "python"
  }
 },
 "nbformat": 4,
 "nbformat_minor": 2
}
