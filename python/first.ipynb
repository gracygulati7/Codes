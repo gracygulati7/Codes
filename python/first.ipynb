{
 "cells": [
  {
   "cell_type": "code",
   "execution_count": 2,
   "metadata": {},
   "outputs": [
    {
     "name": "stdout",
     "output_type": "stream",
     "text": [
      "['False', 'None', 'True', 'and', 'as', 'assert', 'async', 'await', 'break', 'class', 'continue', 'def', 'del', 'elif', 'else', 'except', 'finally', 'for', 'from', 'global', 'if', 'import', 'in', 'is', 'lambda', 'nonlocal', 'not', 'or', 'pass', 'raise', 'return', 'try', 'while', 'with', 'yield']\n",
      "10 140735938050776\n"
     ]
    }
   ],
   "source": [
    "import keyword\n",
    "print(keyword.kwlist)\n",
    "# single line comment\n",
    "\"\"\"multiple \n",
    "line\n",
    "comments\"\"\""
   ]
  },
  {
   "cell_type": "code",
   "execution_count": 4,
   "metadata": {},
   "outputs": [
    {
     "name": "stdout",
     "output_type": "stream",
     "text": [
      "10 150 140735938050776\n"
     ]
    }
   ],
   "source": [
    "a=10\n",
    "s=\"hello\"\n",
    "b=10+20+ \\\n",
    "30+40+ \\\n",
    "50\n",
    "c=d=e=100\n",
    "c,d,e=1,2,3\n",
    "print(a,b,id(a))"
   ]
  },
  {
   "cell_type": "markdown",
   "metadata": {},
   "source": [
    "objects are created on heap (dynamic)\n",
    "so, if a=10\n",
    "then in stack a=x and in heap 10 is stored at x location\n",
    "now if c=10\n",
    "then in stack c will point at x location only to prevent memory wasteage\n",
    "now if a=a+20 ie 30 \n",
    "so then x is not updated to 30 , a new memory is created suppose z where 30 is stored in heap\n",
    "so now a=30, c=10 but x=10 and z=30  \n",
    "this is called immutability coz you cant change memory location where 10 is stored ie x unless it is erased\n",
    "\n"
   ]
  },
  {
   "cell_type": "code",
   "execution_count": 5,
   "metadata": {},
   "outputs": [
    {
     "name": "stdout",
     "output_type": "stream",
     "text": [
      "s <class 'str'>\n"
     ]
    }
   ],
   "source": [
    "a='s'\n",
    "print(a,type(a))\n",
    "b=[1,2,3,4,'hello']\n",
    "print(b,type(b))"
   ]
  },
  {
   "cell_type": "markdown",
   "metadata": {},
   "source": [
    "there is only one data type of text ie str in python no char data type\n",
    "set mein unique elements only\n",
    "frozen set is immutable\n",
    "list is heterogeneous\n",
    "dict is key value:pair\n",
    "in c or c++ what is null is same as none in python\n"
   ]
  },
  {
   "cell_type": "code",
   "execution_count": null,
   "metadata": {},
   "outputs": [],
   "source": [
    "a=input(\"enter a num\")\n",
    "print(a,type(a))\n",
    "a=int(a)\n",
    "print(a,type(a))"
   ]
  },
  {
   "cell_type": "markdown",
   "metadata": {},
   "source": [
    "input is default as str\n",
    "for taking other data types input we can type cast it"
   ]
  },
  {
   "cell_type": "code",
   "execution_count": 8,
   "metadata": {},
   "outputs": [
    {
     "name": "stdout",
     "output_type": "stream",
     "text": [
      "False\n"
     ]
    }
   ],
   "source": [
    "a=[10]\n",
    "b=[10]\n",
    "c=a is b\n",
    "print(c)"
   ]
  },
  {
   "cell_type": "markdown",
   "metadata": {},
   "source": [
    "list is mutable type of data hence even if we have a and b list with same ele they are stored at diff memory locations"
   ]
  },
  {
   "cell_type": "code",
   "execution_count": 9,
   "metadata": {},
   "outputs": [
    {
     "name": "stdout",
     "output_type": "stream",
     "text": [
      "a is less than b\n",
      "hello\n"
     ]
    }
   ],
   "source": [
    "a=10\n",
    "b=20\n",
    "if (a<b):\n",
    "    print('a is less than b')\n",
    "    print('hello')\n",
    "else:\n",
    "    print('a is greater than b')"
   ]
  },
  {
   "cell_type": "markdown",
   "metadata": {},
   "source": [
    "python mein ek block ki indentation ya no.of spaces same honi chahiye.\n",
    "atleast one space honi chahiye in a block of code."
   ]
  },
  {
   "cell_type": "code",
   "execution_count": 22,
   "metadata": {},
   "outputs": [
    {
     "name": "stdout",
     "output_type": "stream",
     "text": [
      "its not prime\n"
     ]
    }
   ],
   "source": [
    "n=int(input(\"enter a num\"))\n",
    "i=2\n",
    "while (i<=n/2):\n",
    "    if(n%i==0):\n",
    "        print(\"its not prime\")\n",
    "        break\n",
    "    i=i+1\n",
    "else:\n",
    "    print(\"its prime\")"
   ]
  }
 ],
 "metadata": {
  "kernelspec": {
   "display_name": "Python 3",
   "language": "python",
   "name": "python3"
  },
  "language_info": {
   "codemirror_mode": {
    "name": "ipython",
    "version": 3
   },
   "file_extension": ".py",
   "mimetype": "text/x-python",
   "name": "python",
   "nbconvert_exporter": "python",
   "pygments_lexer": "ipython3",
   "version": "3.12.1"
  }
 },
 "nbformat": 4,
 "nbformat_minor": 2
}
