{
 "cells": [
  {
   "cell_type": "code",
   "execution_count": 1,
   "metadata": {},
   "outputs": [
    {
     "name": "stdout",
     "output_type": "stream",
     "text": [
      "{1, 2, 3} <class 'set'>\n"
     ]
    }
   ],
   "source": [
    "#sets\n",
    "s={1,2,3}\n",
    "print(s,type(s))\n",
    "s.add(10)\n",
    "print(s)"
   ]
  },
  {
   "cell_type": "markdown",
   "metadata": {},
   "source": [
    "sets contain unique elements and are unordered collection"
   ]
  },
  {
   "cell_type": "code",
   "execution_count": 3,
   "metadata": {},
   "outputs": [
    {
     "data": {
      "text/plain": [
       "10"
      ]
     },
     "execution_count": 3,
     "metadata": {},
     "output_type": "execute_result"
    }
   ],
   "source": [
    "s.pop()    #pop removes any random elements from set"
   ]
  },
  {
   "cell_type": "code",
   "execution_count": 6,
   "metadata": {},
   "outputs": [],
   "source": [
    "s.remove(3)   #remove deletes element mentioned within its brackets and returns a null value"
   ]
  },
  {
   "cell_type": "code",
   "execution_count": 5,
   "metadata": {},
   "outputs": [
    {
     "name": "stdout",
     "output_type": "stream",
     "text": [
      "False\n"
     ]
    }
   ],
   "source": [
    "s={1,2,3,4,5}\n",
    "print(10 in s)"
   ]
  },
  {
   "cell_type": "code",
   "execution_count": 7,
   "metadata": {},
   "outputs": [],
   "source": [
    "#clear funcn will clear set and copy will create a shallow copy\n",
    "#difference will give non common elements of two sets\n",
    "#set mein search krna is big o(1) constant time complexity hence fast and easy searching\n",
    "#list mein search krna combursome coz its time complexity is that of linear search\n",
    "#set is a class on the inside\n",
    "s={}        #this means empty dict not empty set"
   ]
  },
  {
   "cell_type": "code",
   "execution_count": 9,
   "metadata": {},
   "outputs": [
    {
     "name": "stdout",
     "output_type": "stream",
     "text": [
      "frozenset({1, 2, 3})\n"
     ]
    }
   ],
   "source": [
    "s=frozenset({1,2,3})\n",
    "print(s)\n",
    "#frozenset means cant add anything to set its immutable"
   ]
  },
  {
   "cell_type": "code",
   "execution_count": 10,
   "metadata": {},
   "outputs": [
    {
     "name": "stdout",
     "output_type": "stream",
     "text": [
      "1\n",
      "2\n",
      "3\n"
     ]
    }
   ],
   "source": [
    "#traversing in sets\n",
    "for ele in s:\n",
    "    print(ele)"
   ]
  },
  {
   "cell_type": "code",
   "execution_count": 17,
   "metadata": {},
   "outputs": [
    {
     "name": "stdout",
     "output_type": "stream",
     "text": [
      "{'roll': 331, 'name': 'gracy', 'age': 20} <class 'dict'>\n",
      "331\n"
     ]
    }
   ],
   "source": [
    "#dictionary- {key:value} pair\n",
    "#keys are unique\n",
    "#array advantage: u can search any element using index and time complexity is o(1) ie constant time.\n",
    "#dictionaries are used for time complexity is o(1) ie constant time.\n",
    "d={\n",
    "    \"roll\" : 331,\n",
    "    \"name\" : \"gracy\",\n",
    "    \"age\" : 20\n",
    "}\n",
    "print(d,type(d))\n",
    "print(d[\"roll\"])    #if key not there then error will come\n",
    "#d.get(\"roll\")      #if key not there then null value returned.\n",
    "\n",
    "\n"
   ]
  },
  {
   "cell_type": "code",
   "execution_count": 19,
   "metadata": {},
   "outputs": [
    {
     "name": "stdout",
     "output_type": "stream",
     "text": [
      "{'roll': 331, 'name': 'gracy', 'age': 20, 'college': 'chitkara'}\n",
      "{'roll': 331, 'name': 'gracy', 'age': 20, 'college': 'chitkara', 'city': 'chandigarh', 'country': 'india'}\n"
     ]
    }
   ],
   "source": [
    "#inserting values in dict:\n",
    "#1st method ->\n",
    "d[\"college\"]=\"chitkara\"             #adds one key value pair\n",
    "print(d) \n",
    "#2nd method -> \n",
    "d.update({\"city\":\"chandigarh\", \"country\":\"india\"})    #can add multiple key value pairs\n",
    "print(d)"
   ]
  },
  {
   "cell_type": "code",
   "execution_count": 22,
   "metadata": {},
   "outputs": [
    {
     "data": {
      "text/plain": [
       "dict_keys(['roll', 'name', 'age', 'college', 'city', 'country'])"
      ]
     },
     "execution_count": 22,
     "metadata": {},
     "output_type": "execute_result"
    }
   ],
   "source": [
    "d.keys()                          #prints all keys in dict"
   ]
  },
  {
   "cell_type": "code",
   "execution_count": 21,
   "metadata": {},
   "outputs": [
    {
     "name": "stdout",
     "output_type": "stream",
     "text": [
      "roll 331\n",
      "name gracy\n",
      "age 20\n",
      "college chitkara\n",
      "city chandigarh\n",
      "country india\n"
     ]
    },
    {
     "data": {
      "text/plain": [
       "dict_values([331, 'gracy', 20, 'chitkara', 'chandigarh', 'india'])"
      ]
     },
     "execution_count": 21,
     "metadata": {},
     "output_type": "execute_result"
    }
   ],
   "source": [
    "for k in d:                       #for k in d.keys()\n",
    "    print(k,d[k])\n",
    "d.values()"
   ]
  },
  {
   "cell_type": "markdown",
   "metadata": {},
   "source": [
    "key se values nikal skte ho but vice versa not true hence keys should be unique values can be duplicate.\n",
    "value k andr u can put anything thats there in python.\n",
    "key k andr u can put tuples,string,int (jo chiz immutable h that can be put in key)"
   ]
  },
  {
   "cell_type": "code",
   "execution_count": 23,
   "metadata": {},
   "outputs": [
    {
     "data": {
      "text/plain": [
       "dict_items([('roll', 331), ('name', 'gracy'), ('age', 20), ('college', 'chitkara'), ('city', 'chandigarh'), ('country', 'india')])"
      ]
     },
     "execution_count": 23,
     "metadata": {},
     "output_type": "execute_result"
    }
   ],
   "source": [
    "d.items()    #items- keys and values both"
   ]
  },
  {
   "cell_type": "code",
   "execution_count": 26,
   "metadata": {},
   "outputs": [
    {
     "name": "stdout",
     "output_type": "stream",
     "text": [
      "roll 331\n",
      "name gracy\n",
      "age 20\n",
      "college chitkara\n",
      "city chandigarh\n",
      "country india\n"
     ]
    }
   ],
   "source": [
    "for k,v in d.items():\n",
    "    print(k,v)\n",
    "#or\n",
    "\n",
    "#for t in d.items():\n",
    "#    print (t)"
   ]
  },
  {
   "cell_type": "code",
   "execution_count": null,
   "metadata": {},
   "outputs": [],
   "source": [
    "d.pop(\"country\")\n",
    "print(d)    "
   ]
  },
  {
   "cell_type": "code",
   "execution_count": 30,
   "metadata": {},
   "outputs": [
    {
     "data": {
      "text/plain": [
       "('city', 'chandigarh')"
      ]
     },
     "execution_count": 30,
     "metadata": {},
     "output_type": "execute_result"
    }
   ],
   "source": [
    "d.popitem()    #removes last item in dict"
   ]
  }
 ],
 "metadata": {
  "kernelspec": {
   "display_name": "Python 3",
   "language": "python",
   "name": "python3"
  },
  "language_info": {
   "codemirror_mode": {
    "name": "ipython",
    "version": 3
   },
   "file_extension": ".py",
   "mimetype": "text/x-python",
   "name": "python",
   "nbconvert_exporter": "python",
   "pygments_lexer": "ipython3",
   "version": "3.12.1"
  }
 },
 "nbformat": 4,
 "nbformat_minor": 2
}
