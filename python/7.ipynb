{
 "cells": [
  {
   "cell_type": "code",
   "execution_count": 3,
   "metadata": {},
   "outputs": [
    {
     "name": "stdout",
     "output_type": "stream",
     "text": [
      "1.26.3\n"
     ]
    }
   ],
   "source": [
    "import numpy as np \n",
    "print(np.version.version)\n"
   ]
  },
  {
   "cell_type": "code",
   "execution_count": 23,
   "metadata": {},
   "outputs": [
    {
     "name": "stdout",
     "output_type": "stream",
     "text": [
      "[[[1 2]\n",
      "  [3 4]\n",
      "  [8 9]]\n",
      "\n",
      " [[5 6]\n",
      "  [7 8]\n",
      "  [1 2]]] <class 'numpy.ndarray'> 3\n",
      "1\n",
      "2\n",
      "3\n",
      "4\n",
      "8\n",
      "9\n",
      "5\n",
      "6\n",
      "7\n",
      "8\n",
      "1\n",
      "2\n"
     ]
    }
   ],
   "source": [
    "l1=[1,2,3,4]\n",
    "l2=[[1,2],[3,4]]\n",
    "l3=[[[1,2],[3,4],[8,9]],[[5,6],[7,8],[1,2]]]\n",
    "l31=[[[1],[3],[8]],[[5],[7],[1]]]\n",
    "# na=np.array(l1)\n",
    "# nb=np.array(l2)\n",
    "nc=np.array(l3)\n",
    "# nd=np.array(l31)\n",
    "# print(na,type(na),na.ndim)\n",
    "# print(nb,type(nb),nb.ndim)\n",
    "#  Q) acces elements of 3d array and print them one by one.\n",
    "#1st method-\n",
    "'''\n",
    "print(nc,type(nc),nc.ndim)\n",
    "for i in range(2):             #no. of 2d arrays in 1d array\n",
    "    for j in range(3):         #no. of 1d arrays in 2d array\n",
    "        for k in range(2):     #no.of elements in 1d array\n",
    "            print(nc[i][j][k])\n",
    "'''\n",
    "\n",
    "#2nd method-\n",
    "for i in range(nc.shape[0]):             #no. of 2d arrays in 1d array\n",
    "    for j in range(nc.shape[1]):         #no. of 1d arrays in 2d array\n",
    "        for k in range(nc.shape[2]):     #no.of elements in 1d array\n",
    "            print(nc[i][j][k])"
   ]
  },
  {
   "cell_type": "code",
   "execution_count": 20,
   "metadata": {},
   "outputs": [
    {
     "data": {
      "text/plain": [
       "(2, 3, 2)"
      ]
     },
     "execution_count": 20,
     "metadata": {},
     "output_type": "execute_result"
    }
   ],
   "source": [
    "# na.shape\n",
    "# nb.shape\n",
    "nc.shape\n",
    "#shape is a tuple kind of data.\n",
    "#shape mein phle vla print krega kitni row ya kitne nd arrays hai, 2nd hr row mein kitne elements hai ye print krega"
   ]
  },
  {
   "cell_type": "code",
   "execution_count": 24,
   "metadata": {},
   "outputs": [
    {
     "data": {
      "text/plain": [
       "array([1, 2])"
      ]
     },
     "execution_count": 24,
     "metadata": {},
     "output_type": "execute_result"
    }
   ],
   "source": [
    "nb[0,1]\n",
    "nb[0]"
   ]
  },
  {
   "cell_type": "code",
   "execution_count": 22,
   "metadata": {},
   "outputs": [
    {
     "ename": "TypeError",
     "evalue": "'list' object cannot be interpreted as an integer",
     "output_type": "error",
     "traceback": [
      "\u001b[1;31m---------------------------------------------------------------------------\u001b[0m",
      "\u001b[1;31mTypeError\u001b[0m                                 Traceback (most recent call last)",
      "Cell \u001b[1;32mIn[22], line 1\u001b[0m\n\u001b[1;32m----> 1\u001b[0m \u001b[38;5;28;01mfor\u001b[39;00m idx,ele \u001b[38;5;129;01min\u001b[39;00m \u001b[38;5;28;43mrange\u001b[39;49m\u001b[43m(\u001b[49m\u001b[43ml3\u001b[49m\u001b[43m)\u001b[49m:\n\u001b[0;32m      2\u001b[0m     \u001b[38;5;28mprint\u001b[39m(idx,ele)\n",
      "\u001b[1;31mTypeError\u001b[0m: 'list' object cannot be interpreted as an integer"
     ]
    }
   ],
   "source": []
  }
 ],
 "metadata": {
  "kernelspec": {
   "display_name": "Python 3",
   "language": "python",
   "name": "python3"
  },
  "language_info": {
   "codemirror_mode": {
    "name": "ipython",
    "version": 3
   },
   "file_extension": ".py",
   "mimetype": "text/x-python",
   "name": "python",
   "nbconvert_exporter": "python",
   "pygments_lexer": "ipython3",
   "version": "3.12.1"
  }
 },
 "nbformat": 4,
 "nbformat_minor": 2
}
