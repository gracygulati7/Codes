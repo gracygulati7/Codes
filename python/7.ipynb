{
 "cells": [
  {
   "cell_type": "code",
   "execution_count": 3,
   "metadata": {},
   "outputs": [
    {
     "name": "stdout",
     "output_type": "stream",
     "text": [
      "1.26.3\n"
     ]
    }
   ],
   "source": [
    "import numpy as np \n",
    "print(np.version.version)\n"
   ]
  },
  {
   "cell_type": "code",
   "execution_count": 23,
   "metadata": {},
   "outputs": [
    {
     "name": "stdout",
     "output_type": "stream",
     "text": [
      "[[[1 2]\n",
      "  [3 4]\n",
      "  [8 9]]\n",
      "\n",
      " [[5 6]\n",
      "  [7 8]\n",
      "  [1 2]]] <class 'numpy.ndarray'> 3\n",
      "1\n",
      "2\n",
      "3\n",
      "4\n",
      "8\n",
      "9\n",
      "5\n",
      "6\n",
      "7\n",
      "8\n",
      "1\n",
      "2\n"
     ]
    }
   ],
   "source": [
    "l1=[1,2,3,4]\n",
    "l2=[[1,2],[3,4]]\n",
    "l3=[[[1,2],[3,4],[8,9]],[[5,6],[7,8],[1,2]]]\n",
    "l31=[[[1],[3],[8]],[[5],[7],[1]]]\n",
    "na=np.array(l1)\n",
    "# nb=np.array(l2)\n",
    "nc=np.array(l3)\n",
    "# nd=np.array(l31)\n",
    "# print(na,type(na),na.ndim)\n",
    "# print(nb,type(nb),nb.ndim)\n",
    "#  Q) acces elements of 3d array and print them one by one.\n",
    "#1st method-\n",
    "'''\n",
    "print(nc,type(nc),nc.ndim)\n",
    "for i in range(2):             #no. of 2d arrays in 1d array\n",
    "    for j in range(3):         #no. of 1d arrays in 2d array\n",
    "        for k in range(2):     #no.of elements in 1d array\n",
    "            print(nc[i][j][k])\n",
    "'''\n",
    "\n",
    "#2nd method-\n",
    "for i in range(nc.shape[0]):             #no. of 2d arrays in 1d array\n",
    "    for j in range(nc.shape[1]):         #no. of 1d arrays in 2d array\n",
    "        for k in range(nc.shape[2]):     #no.of elements in 1d array\n",
    "            print(nc[i][j][k])"
   ]
  },
  {
   "cell_type": "code",
   "execution_count": 20,
   "metadata": {},
   "outputs": [
    {
     "data": {
      "text/plain": [
       "(2, 3, 2)"
      ]
     },
     "execution_count": 20,
     "metadata": {},
     "output_type": "execute_result"
    }
   ],
   "source": [
    "# na.shape\n",
    "# nb.shape\n",
    "nc.shape\n",
    "#shape is a tuple kind of data that displays the dimensions of nd list.\n",
    "#shape mein phle vla print krega kitni row ya kitne nd arrays hai, 2nd hr row mein kitne elements hai ye print krega"
   ]
  },
  {
   "cell_type": "code",
   "execution_count": 24,
   "metadata": {},
   "outputs": [
    {
     "data": {
      "text/plain": [
       "array([1, 2])"
      ]
     },
     "execution_count": 24,
     "metadata": {},
     "output_type": "execute_result"
    }
   ],
   "source": [
    "nb[0,1]\n",
    "nb[0]"
   ]
  },
  {
   "cell_type": "code",
   "execution_count": 11,
   "metadata": {},
   "outputs": [
    {
     "data": {
      "text/plain": [
       "array([1., 3., 5., 7., 9.], dtype=float32)"
      ]
     },
     "execution_count": 11,
     "metadata": {},
     "output_type": "execute_result"
    }
   ],
   "source": [
    "# 8th day work- \n",
    "import numpy as np \n",
    "l1=[1,2,3,4]\n",
    "na=np.array(l1)\n",
    "na.dtype\n",
    "np.arange(1,10,2,dtype='f4')"
   ]
  },
  {
   "cell_type": "code",
   "execution_count": 13,
   "metadata": {},
   "outputs": [
    {
     "name": "stdout",
     "output_type": "stream",
     "text": [
      "\u001b[1;31mSignature:\u001b[0m      \n",
      "\u001b[0mnp\u001b[0m\u001b[1;33m.\u001b[0m\u001b[0mlinspace\u001b[0m\u001b[1;33m(\u001b[0m\u001b[1;33m\n",
      "\u001b[0m    \u001b[0mstart\u001b[0m\u001b[1;33m,\u001b[0m\u001b[1;33m\n",
      "\u001b[0m    \u001b[0mstop\u001b[0m\u001b[1;33m,\u001b[0m\u001b[1;33m\n",
      "\u001b[0m    \u001b[0mnum\u001b[0m\u001b[1;33m=\u001b[0m\u001b[1;36m50\u001b[0m\u001b[1;33m,\u001b[0m\u001b[1;33m\n",
      "\u001b[0m    \u001b[0mendpoint\u001b[0m\u001b[1;33m=\u001b[0m\u001b[1;32mTrue\u001b[0m\u001b[1;33m,\u001b[0m\u001b[1;33m\n",
      "\u001b[0m    \u001b[0mretstep\u001b[0m\u001b[1;33m=\u001b[0m\u001b[1;32mFalse\u001b[0m\u001b[1;33m,\u001b[0m\u001b[1;33m\n",
      "\u001b[0m    \u001b[0mdtype\u001b[0m\u001b[1;33m=\u001b[0m\u001b[1;32mNone\u001b[0m\u001b[1;33m,\u001b[0m\u001b[1;33m\n",
      "\u001b[0m    \u001b[0maxis\u001b[0m\u001b[1;33m=\u001b[0m\u001b[1;36m0\u001b[0m\u001b[1;33m,\u001b[0m\u001b[1;33m\n",
      "\u001b[0m\u001b[1;33m)\u001b[0m\u001b[1;33m\u001b[0m\u001b[1;33m\u001b[0m\u001b[0m\n",
      "\u001b[1;31mCall signature:\u001b[0m  \u001b[0mnp\u001b[0m\u001b[1;33m.\u001b[0m\u001b[0mlinspace\u001b[0m\u001b[1;33m(\u001b[0m\u001b[1;33m*\u001b[0m\u001b[0margs\u001b[0m\u001b[1;33m,\u001b[0m \u001b[1;33m**\u001b[0m\u001b[0mkwargs\u001b[0m\u001b[1;33m)\u001b[0m\u001b[1;33m\u001b[0m\u001b[1;33m\u001b[0m\u001b[0m\n",
      "\u001b[1;31mType:\u001b[0m            _ArrayFunctionDispatcher\n",
      "\u001b[1;31mString form:\u001b[0m     <function linspace at 0x000002849FA7C860>\n",
      "\u001b[1;31mFile:\u001b[0m            c:\\users\\91816\\appdata\\local\\programs\\python\\python312\\lib\\site-packages\\numpy\\core\\function_base.py\n",
      "\u001b[1;31mDocstring:\u001b[0m      \n",
      "Return evenly spaced numbers over a specified interval.\n",
      "\n",
      "Returns `num` evenly spaced samples, calculated over the\n",
      "interval [`start`, `stop`].\n",
      "\n",
      "The endpoint of the interval can optionally be excluded.\n",
      "\n",
      ".. versionchanged:: 1.16.0\n",
      "    Non-scalar `start` and `stop` are now supported.\n",
      "\n",
      ".. versionchanged:: 1.20.0\n",
      "    Values are rounded towards ``-inf`` instead of ``0`` when an\n",
      "    integer ``dtype`` is specified. The old behavior can\n",
      "    still be obtained with ``np.linspace(start, stop, num).astype(int)``\n",
      "\n",
      "Parameters\n",
      "----------\n",
      "start : array_like\n",
      "    The starting value of the sequence.\n",
      "stop : array_like\n",
      "    The end value of the sequence, unless `endpoint` is set to False.\n",
      "    In that case, the sequence consists of all but the last of ``num + 1``\n",
      "    evenly spaced samples, so that `stop` is excluded.  Note that the step\n",
      "    size changes when `endpoint` is False.\n",
      "num : int, optional\n",
      "    Number of samples to generate. Default is 50. Must be non-negative.\n",
      "endpoint : bool, optional\n",
      "    If True, `stop` is the last sample. Otherwise, it is not included.\n",
      "    Default is True.\n",
      "retstep : bool, optional\n",
      "    If True, return (`samples`, `step`), where `step` is the spacing\n",
      "    between samples.\n",
      "dtype : dtype, optional\n",
      "    The type of the output array.  If `dtype` is not given, the data type\n",
      "    is inferred from `start` and `stop`. The inferred dtype will never be\n",
      "    an integer; `float` is chosen even if the arguments would produce an\n",
      "    array of integers.\n",
      "\n",
      "    .. versionadded:: 1.9.0\n",
      "\n",
      "axis : int, optional\n",
      "    The axis in the result to store the samples.  Relevant only if start\n",
      "    or stop are array-like.  By default (0), the samples will be along a\n",
      "    new axis inserted at the beginning. Use -1 to get an axis at the end.\n",
      "\n",
      "    .. versionadded:: 1.16.0\n",
      "\n",
      "Returns\n",
      "-------\n",
      "samples : ndarray\n",
      "    There are `num` equally spaced samples in the closed interval\n",
      "    ``[start, stop]`` or the half-open interval ``[start, stop)``\n",
      "    (depending on whether `endpoint` is True or False).\n",
      "step : float, optional\n",
      "    Only returned if `retstep` is True\n",
      "\n",
      "    Size of spacing between samples.\n",
      "\n",
      "\n",
      "See Also\n",
      "--------\n",
      "arange : Similar to `linspace`, but uses a step size (instead of the\n",
      "         number of samples).\n",
      "geomspace : Similar to `linspace`, but with numbers spaced evenly on a log\n",
      "            scale (a geometric progression).\n",
      "logspace : Similar to `geomspace`, but with the end points specified as\n",
      "           logarithms.\n",
      ":ref:`how-to-partition`\n",
      "\n",
      "Examples\n",
      "--------\n",
      ">>> np.linspace(2.0, 3.0, num=5)\n",
      "array([2.  , 2.25, 2.5 , 2.75, 3.  ])\n",
      ">>> np.linspace(2.0, 3.0, num=5, endpoint=False)\n",
      "array([2. ,  2.2,  2.4,  2.6,  2.8])\n",
      ">>> np.linspace(2.0, 3.0, num=5, retstep=True)\n",
      "(array([2.  ,  2.25,  2.5 ,  2.75,  3.  ]), 0.25)\n",
      "\n",
      "Graphical illustration:\n",
      "\n",
      ">>> import matplotlib.pyplot as plt\n",
      ">>> N = 8\n",
      ">>> y = np.zeros(N)\n",
      ">>> x1 = np.linspace(0, 10, N, endpoint=True)\n",
      ">>> x2 = np.linspace(0, 10, N, endpoint=False)\n",
      ">>> plt.plot(x1, y, 'o')\n",
      "[<matplotlib.lines.Line2D object at 0x...>]\n",
      ">>> plt.plot(x2, y + 0.5, 'o')\n",
      "[<matplotlib.lines.Line2D object at 0x...>]\n",
      ">>> plt.ylim([-0.5, 1])\n",
      "(-0.5, 1)\n",
      ">>> plt.show()\n",
      "\u001b[1;31mClass docstring:\u001b[0m\n",
      "Class to wrap functions with checks for __array_function__ overrides.\n",
      "\n",
      "All arguments are required, and can only be passed by position.\n",
      "\n",
      "Parameters\n",
      "----------\n",
      "dispatcher : function or None\n",
      "    The dispatcher function that returns a single sequence-like object\n",
      "    of all arguments relevant.  It must have the same signature (except\n",
      "    the default values) as the actual implementation.\n",
      "    If ``None``, this is a ``like=`` dispatcher and the\n",
      "    ``_ArrayFunctionDispatcher`` must be called with ``like`` as the\n",
      "    first (additional and positional) argument.\n",
      "implementation : function\n",
      "    Function that implements the operation on NumPy arrays without\n",
      "    overrides.  Arguments passed calling the ``_ArrayFunctionDispatcher``\n",
      "    will be forwarded to this (and the ``dispatcher``) as if using\n",
      "    ``*args, **kwargs``.\n",
      "\n",
      "Attributes\n",
      "----------\n",
      "_implementation : function\n",
      "    The original implementation passed in."
     ]
    }
   ],
   "source": [
    "np.linspace(0,1,5)\n",
    "np.linspace?"
   ]
  },
  {
   "cell_type": "code",
   "execution_count": 14,
   "metadata": {},
   "outputs": [
    {
     "name": "stdout",
     "output_type": "stream",
     "text": [
      "\u001b[1;31mSignature:\u001b[0m \u001b[0mnp\u001b[0m\u001b[1;33m.\u001b[0m\u001b[0mones\u001b[0m\u001b[1;33m(\u001b[0m\u001b[0mshape\u001b[0m\u001b[1;33m,\u001b[0m \u001b[0mdtype\u001b[0m\u001b[1;33m=\u001b[0m\u001b[1;32mNone\u001b[0m\u001b[1;33m,\u001b[0m \u001b[0morder\u001b[0m\u001b[1;33m=\u001b[0m\u001b[1;34m'C'\u001b[0m\u001b[1;33m,\u001b[0m \u001b[1;33m*\u001b[0m\u001b[1;33m,\u001b[0m \u001b[0mlike\u001b[0m\u001b[1;33m=\u001b[0m\u001b[1;32mNone\u001b[0m\u001b[1;33m)\u001b[0m\u001b[1;33m\u001b[0m\u001b[1;33m\u001b[0m\u001b[0m\n",
      "\u001b[1;31mDocstring:\u001b[0m\n",
      "Return a new array of given shape and type, filled with ones.\n",
      "\n",
      "Parameters\n",
      "----------\n",
      "shape : int or sequence of ints\n",
      "    Shape of the new array, e.g., ``(2, 3)`` or ``2``.\n",
      "dtype : data-type, optional\n",
      "    The desired data-type for the array, e.g., `numpy.int8`.  Default is\n",
      "    `numpy.float64`.\n",
      "order : {'C', 'F'}, optional, default: C\n",
      "    Whether to store multi-dimensional data in row-major\n",
      "    (C-style) or column-major (Fortran-style) order in\n",
      "    memory.\n",
      "like : array_like, optional\n",
      "    Reference object to allow the creation of arrays which are not\n",
      "    NumPy arrays. If an array-like passed in as ``like`` supports\n",
      "    the ``__array_function__`` protocol, the result will be defined\n",
      "    by it. In this case, it ensures the creation of an array object\n",
      "    compatible with that passed in via this argument.\n",
      "\n",
      "    .. versionadded:: 1.20.0\n",
      "\n",
      "Returns\n",
      "-------\n",
      "out : ndarray\n",
      "    Array of ones with the given shape, dtype, and order.\n",
      "\n",
      "See Also\n",
      "--------\n",
      "ones_like : Return an array of ones with shape and type of input.\n",
      "empty : Return a new uninitialized array.\n",
      "zeros : Return a new array setting values to zero.\n",
      "full : Return a new array of given shape filled with value.\n",
      "\n",
      "\n",
      "Examples\n",
      "--------\n",
      ">>> np.ones(5)\n",
      "array([1., 1., 1., 1., 1.])\n",
      "\n",
      ">>> np.ones((5,), dtype=int)\n",
      "array([1, 1, 1, 1, 1])\n",
      "\n",
      ">>> np.ones((2, 1))\n",
      "array([[1.],\n",
      "       [1.]])\n",
      "\n",
      ">>> s = (2,2)\n",
      ">>> np.ones(s)\n",
      "array([[1.,  1.],\n",
      "       [1.,  1.]])\n",
      "\u001b[1;31mFile:\u001b[0m      c:\\users\\91816\\appdata\\local\\programs\\python\\python312\\lib\\site-packages\\numpy\\core\\numeric.py\n",
      "\u001b[1;31mType:\u001b[0m      function"
     ]
    }
   ],
   "source": [
    "np.ones?"
   ]
  },
  {
   "cell_type": "code",
   "execution_count": 18,
   "metadata": {},
   "outputs": [
    {
     "data": {
      "text/plain": [
       "array([[1, 1, 1, 1, 1],\n",
       "       [1, 1, 1, 1, 1]], dtype=int32)"
      ]
     },
     "execution_count": 18,
     "metadata": {},
     "output_type": "execute_result"
    }
   ],
   "source": [
    "np.ones((2,5),dtype='i')"
   ]
  },
  {
   "cell_type": "code",
   "execution_count": 19,
   "metadata": {},
   "outputs": [
    {
     "data": {
      "text/plain": [
       "array([[0., 0., 0., 0., 0.],\n",
       "       [0., 0., 0., 0., 0.]])"
      ]
     },
     "execution_count": 19,
     "metadata": {},
     "output_type": "execute_result"
    }
   ],
   "source": [
    "np.zeros((2,5))"
   ]
  },
  {
   "cell_type": "code",
   "execution_count": 20,
   "metadata": {},
   "outputs": [
    {
     "data": {
      "text/plain": [
       "array([[1., 0., 0.],\n",
       "       [0., 1., 0.],\n",
       "       [0., 0., 1.],\n",
       "       [0., 0., 0.]])"
      ]
     },
     "execution_count": 20,
     "metadata": {},
     "output_type": "execute_result"
    }
   ],
   "source": [
    "np.eye(4,3)"
   ]
  },
  {
   "cell_type": "code",
   "execution_count": 21,
   "metadata": {},
   "outputs": [
    {
     "data": {
      "text/plain": [
       "array([[1, 0, 0, 0],\n",
       "       [0, 2, 0, 0],\n",
       "       [0, 0, 3, 0],\n",
       "       [0, 0, 0, 4]])"
      ]
     },
     "execution_count": 21,
     "metadata": {},
     "output_type": "execute_result"
    }
   ],
   "source": [
    "np.diag([1,2,3,4])"
   ]
  },
  {
   "cell_type": "code",
   "execution_count": 22,
   "metadata": {},
   "outputs": [
    {
     "data": {
      "text/plain": [
       "array([[0.10393899, 0.72291847, 0.57167866, 0.35879774, 0.03987606],\n",
       "       [0.95937668, 0.61637048, 0.95856827, 0.9471248 , 0.99144432]])"
      ]
     },
     "execution_count": 22,
     "metadata": {},
     "output_type": "execute_result"
    }
   ],
   "source": [
    "np.random.rand(2,5)   #rand(shape)any random no. array displayed"
   ]
  },
  {
   "cell_type": "code",
   "execution_count": 29,
   "metadata": {},
   "outputs": [
    {
     "data": {
      "text/plain": [
       "array([[[ 1,  2],\n",
       "        [ 3,  4],\n",
       "        [ 5,  6]],\n",
       "\n",
       "       [[ 7,  8],\n",
       "        [ 9, 10],\n",
       "        [11, 12]]])"
      ]
     },
     "execution_count": 29,
     "metadata": {},
     "output_type": "execute_result"
    }
   ],
   "source": [
    "na = np.arange(1,13)\n",
    "na=na.reshape((-1,4))  #-1 automatically creates dimensions if u dont wanna calculate them\n",
    "na.reshape(2,-1,2)"
   ]
  },
  {
   "cell_type": "code",
   "execution_count": 43,
   "metadata": {},
   "outputs": [
    {
     "data": {
      "text/plain": [
       "array([[10, 20],\n",
       "       [30, 40]])"
      ]
     },
     "execution_count": 43,
     "metadata": {},
     "output_type": "execute_result"
    }
   ],
   "source": [
    "b=na[0:2,2:4]   # first is for rows then comma after that is for columns\n",
    "b=np.array([[10,20],[30,40]])\n",
    "b"
   ]
  },
  {
   "cell_type": "code",
   "execution_count": 32,
   "metadata": {},
   "outputs": [
    {
     "data": {
      "text/plain": [
       "array([[ 1,  2,  3,  4],\n",
       "       [ 5,  6,  7,  8],\n",
       "       [ 9, 10, 11, 12]])"
      ]
     },
     "execution_count": 32,
     "metadata": {},
     "output_type": "execute_result"
    }
   ],
   "source": [
    "# na"
   ]
  },
  {
   "cell_type": "code",
   "execution_count": 60,
   "metadata": {},
   "outputs": [
    {
     "name": "stdout",
     "output_type": "stream",
     "text": [
      "[[10]\n",
      " [40]]\n",
      "[[ 1  2 10 10]\n",
      " [ 5  6 30 40]\n",
      " [ 9 10 11 12]]\n"
     ]
    }
   ],
   "source": [
    "a=na[0:2,3:4].copy()\n",
    "a[0,0]=10\n",
    "print(a)\n",
    "print(na)"
   ]
  },
  {
   "cell_type": "code",
   "execution_count": 50,
   "metadata": {},
   "outputs": [
    {
     "data": {
      "text/plain": [
       "False"
      ]
     },
     "execution_count": 50,
     "metadata": {},
     "output_type": "execute_result"
    }
   ],
   "source": [
    "np.shares_memory(na,a)"
   ]
  },
  {
   "cell_type": "code",
   "execution_count": 66,
   "metadata": {},
   "outputs": [
    {
     "data": {
      "text/plain": [
       "(array([[ 0, 10],\n",
       "        [20, 30]]),\n",
       " array([[20, 30],\n",
       "        [40, 50]]))"
      ]
     },
     "execution_count": 66,
     "metadata": {},
     "output_type": "execute_result"
    }
   ],
   "source": [
    "b=np.array([[10,20],[30,40]])\n",
    "b-10,np.add(b,10)"
   ]
  },
  {
   "cell_type": "code",
   "execution_count": 56,
   "metadata": {},
   "outputs": [
    {
     "data": {
      "text/plain": [
       "array([[ 100,  400],\n",
       "       [ 900, 1600]])"
      ]
     },
     "execution_count": 56,
     "metadata": {},
     "output_type": "execute_result"
    }
   ],
   "source": [
    "b**2"
   ]
  },
  {
   "cell_type": "code",
   "execution_count": 57,
   "metadata": {},
   "outputs": [
    {
     "data": {
      "text/plain": [
       "array([[20, 30],\n",
       "       [70, 80]])"
      ]
     },
     "execution_count": 57,
     "metadata": {},
     "output_type": "execute_result"
    }
   ],
   "source": [
    "a+b"
   ]
  },
  {
   "cell_type": "code",
   "execution_count": 64,
   "metadata": {},
   "outputs": [
    {
     "data": {
      "text/plain": [
       "array([20, 30, 40])"
      ]
     },
     "execution_count": 64,
     "metadata": {},
     "output_type": "execute_result"
    }
   ],
   "source": [
    "b[b>7]"
   ]
  },
  {
   "cell_type": "code",
   "execution_count": 71,
   "metadata": {},
   "outputs": [
    {
     "data": {
      "text/plain": [
       "(array([ 3,  7, 11, 15, 19], dtype=int64),)"
      ]
     },
     "execution_count": 71,
     "metadata": {},
     "output_type": "execute_result"
    }
   ],
   "source": [
    "a=np.arange(1,21)\n",
    "np.where(a%4==0)"
   ]
  },
  {
   "cell_type": "code",
   "execution_count": 76,
   "metadata": {},
   "outputs": [
    {
     "data": {
      "text/plain": [
       "array([[[ 1,  2],\n",
       "        [ 3,  4],\n",
       "        [ 5,  6]],\n",
       "\n",
       "       [[ 7,  8],\n",
       "        [ 9, 10],\n",
       "        [11, 12]]])"
      ]
     },
     "execution_count": 76,
     "metadata": {},
     "output_type": "execute_result"
    }
   ],
   "source": [
    "na=np.arange(1,13).reshape((2,3,2))\n",
    "na"
   ]
  },
  {
   "cell_type": "code",
   "execution_count": 81,
   "metadata": {},
   "outputs": [
    {
     "data": {
      "text/plain": [
       "array([[ 3,  7, 11],\n",
       "       [15, 19, 23]])"
      ]
     },
     "execution_count": 81,
     "metadata": {},
     "output_type": "execute_result"
    }
   ],
   "source": [
    "np.sum(na,axis=2)  #axis=0-column wise , 1=row wise addition"
   ]
  }
 ],
 "metadata": {
  "kernelspec": {
   "display_name": "Python 3",
   "language": "python",
   "name": "python3"
  },
  "language_info": {
   "codemirror_mode": {
    "name": "ipython",
    "version": 3
   },
   "file_extension": ".py",
   "mimetype": "text/x-python",
   "name": "python",
   "nbconvert_exporter": "python",
   "pygments_lexer": "ipython3",
   "version": "3.12.1"
  }
 },
 "nbformat": 4,
 "nbformat_minor": 2
}
