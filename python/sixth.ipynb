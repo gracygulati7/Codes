{
 "cells": [
  {
   "cell_type": "code",
   "execution_count": 5,
   "metadata": {},
   "outputs": [],
   "source": [
    "#file handling- text and binary files\n",
    "#text files= ascii char or any other char or text related files\n",
    "#binary files= files that contain data in form of 0 or 1 (binary form)\n",
    "# mainly 3 things are there in file handling ie -\n",
    "#1. opening a file \n",
    "#2. read/wrire in file \n",
    "#3. close the file (imp)\n",
    "#open - open func - path to file - node\n",
    "#read- f.read(),f.write()\n",
    "#close- close()\n",
    "#various  modes are there like r-read, w-write, x-execute(if file exists then no changes or error occurs else creates a file, a-append\n",
    "#t- text file r,rt same \n",
    "#b-binary\n",
    "#+ = read write mode\n",
    "f=open(\"example.txt\",'w')\n",
    "f.write(\"Jay Siya Ram\\n\")\n",
    "f.write(\"Jay Shree Ram\")\n",
    "f.close()"
   ]
  },
  {
   "cell_type": "code",
   "execution_count": 10,
   "metadata": {},
   "outputs": [
    {
     "name": "stdout",
     "output_type": "stream",
     "text": [
      "Jay Siya\n"
     ]
    }
   ],
   "source": [
    "f = open(\"example.txt\",'r')\n",
    "print(f.read(8))\n",
    "#print(f.readlines())\n",
    "#print(f.readline())\n",
    "f.close()"
   ]
  },
  {
   "cell_type": "code",
   "execution_count": 21,
   "metadata": {},
   "outputs": [],
   "source": [
    "with open(\"example.txt\",'w') as f:\n",
    "    for i in range(4):\n",
    "        val=input().split(\" \")\n",
    "        f.write(\"{},{},{},{}\\n\".format(val[0],val[1],val[2],val[3]))\n",
    "    \n",
    "\n",
    "# with open(\"example.txt\",'r')as f:\n",
    "#     print(f.read())"
   ]
  },
  {
   "cell_type": "code",
   "execution_count": 31,
   "metadata": {},
   "outputs": [
    {
     "name": "stdout",
     "output_type": "stream",
     "text": [
      "[['gunn', '19', '33', 'sikh'], ['gracy', '20', '31', 'hindu'], ['harleen', '17', '65', 'sikh'], ['himani', '01', '17', 'hindu']]\n"
     ]
    }
   ],
   "source": [
    "# Q) To extract values from file and print them in form of a 2d list:\n",
    "# Open the file in read mode\n",
    "with open(\"example.txt\", 'r') as f:\n",
    "    # Initialize an empty list to store the 2D data\n",
    "    data = []\n",
    "\n",
    "    # Iterate over each line in the file\n",
    "    for line in f:\n",
    "        # Split the line into individual values\n",
    "        values = line.strip().split(',')\n",
    "        \n",
    "        # Append the list of values to the 2D list\n",
    "        data.append(values)\n",
    "\n",
    "# Print the resulting 2D list\n",
    "print(data)"
   ]
  },
  {
   "cell_type": "code",
   "execution_count": 12,
   "metadata": {},
   "outputs": [
    {
     "data": {
      "text/plain": [
       "['arjun', '28', '98', 'g8']"
      ]
     },
     "execution_count": 12,
     "metadata": {},
     "output_type": "execute_result"
    }
   ],
   "source": [
    "val=input().split(\" \")\n",
    "val"
   ]
  }
 ],
 "metadata": {
  "kernelspec": {
   "display_name": "Python 3",
   "language": "python",
   "name": "python3"
  },
  "language_info": {
   "codemirror_mode": {
    "name": "ipython",
    "version": 3
   },
   "file_extension": ".py",
   "mimetype": "text/x-python",
   "name": "python",
   "nbconvert_exporter": "python",
   "pygments_lexer": "ipython3",
   "version": "3.12.1"
  }
 },
 "nbformat": 4,
 "nbformat_minor": 2
}
