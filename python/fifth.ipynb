{
 "cells": [
  {
   "cell_type": "code",
   "execution_count": 7,
   "metadata": {},
   "outputs": [
    {
     "name": "stdout",
     "output_type": "stream",
     "text": [
      "hello, i am gracy.my age is 19\n"
     ]
    }
   ],
   "source": [
    "class person:\n",
    "    #name='xyz'\n",
    "    #age=0\n",
    "    def __init__(self,name='gracy',age=19):\n",
    "        self.name=name\n",
    "        self.age=age\n",
    "    def sayshi(self):\n",
    "        print(\"hello, i am {name}.my age is {age}\".format(name=self.name,age=self.age))\n",
    "    def __str__(self):\n",
    "        return(\"hello, i am {name}.my age is {age}\".format(name=self.name,age=self.age))\n",
    "p=person()   #function calling\n",
    "print(p)"
   ]
  },
  {
   "cell_type": "code",
   "execution_count": 13,
   "metadata": {},
   "outputs": [],
   "source": [
    "import example\n",
    "dir (example)\n",
    "example.a\n",
    "e=example.exp()"
   ]
  },
  {
   "cell_type": "code",
   "execution_count": 14,
   "metadata": {},
   "outputs": [
    {
     "data": {
      "text/plain": [
       "10"
      ]
     },
     "execution_count": 14,
     "metadata": {},
     "output_type": "execute_result"
    }
   ],
   "source": [
    "from example import a\n",
    "a"
   ]
  }
 ],
 "metadata": {
  "kernelspec": {
   "display_name": "Python 3",
   "language": "python",
   "name": "python3"
  },
  "language_info": {
   "codemirror_mode": {
    "name": "ipython",
    "version": 3
   },
   "file_extension": ".py",
   "mimetype": "text/x-python",
   "name": "python",
   "nbconvert_exporter": "python",
   "pygments_lexer": "ipython3",
   "version": "3.12.1"
  }
 },
 "nbformat": 4,
 "nbformat_minor": 2
}
