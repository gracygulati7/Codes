{
 "cells": [
  {
   "cell_type": "code",
   "execution_count": null,
   "metadata": {},
   "outputs": [],
   "source": [
    "#in python there is only call by value a copy is created an passed there is no call by refereence in python.\n",
    "abs(-10.5)  #abs func means absolte jo ki negative value ko positive bna dega\n",
    "l=[10,20,30,40]\n",
    "#dir lists all functions that can be used on a list or something\n",
    "dir(l)"
   ]
  },
  {
   "cell_type": "code",
   "execution_count": 5,
   "metadata": {},
   "outputs": [
    {
     "data": {
      "text/plain": [
       "True"
      ]
     },
     "execution_count": 5,
     "metadata": {},
     "output_type": "execute_result"
    }
   ],
   "source": [
    "#all mean sari value ka and krdia agr sb value true to true return krega vrna false\n",
    "all([True,True,1,-2,True])   #false value 0 hoti h or empty list b false baki sb true "
   ]
  },
  {
   "cell_type": "code",
   "execution_count": 9,
   "metadata": {},
   "outputs": [
    {
     "name": "stdout",
     "output_type": "stream",
     "text": [
      "0 1\n",
      "1 2\n",
      "2 3\n"
     ]
    }
   ],
   "source": [
    "#divmod divide k baad qupotient or reminder dono deta h\n",
    "divmod(11,3)\n",
    "#enumerate ek list or iterable pe kaam krta h jisse ek list ya tuple milti h indexes pe\n",
    "#(iterator lake deta h jisme first value is index second is value)\n",
    "for ind,ele in enumerate(l):\n",
    "    print(ind,ele)"
   ]
  },
  {
   "cell_type": "code",
   "execution_count": 11,
   "metadata": {},
   "outputs": [
    {
     "name": "stdout",
     "output_type": "stream",
     "text": [
      "[0, 2, 4, 6, 8, 10, 12, 14, 16, 18]\n"
     ]
    }
   ],
   "source": [
    "#filter-koi b ek func ko use krta h list pe agr true aya to list mein rhega vrna nhi\n",
    "l=[i for i in range(20)]\n",
    "l= list(filter(lambda x: x%2==0, l))\n",
    "print(l)\n"
   ]
  },
  {
   "cell_type": "code",
   "execution_count": 12,
   "metadata": {},
   "outputs": [
    {
     "name": "stdout",
     "output_type": "stream",
     "text": [
      "[0, 4, 16, 36, 64, 100, 144, 196, 256, 324]\n"
     ]
    }
   ],
   "source": [
    "#isinstance- two paramters lega - object and class and agr object iss class ka h to true return\n",
    "#map-ek list lega,ek func lega, list k har ele mei func chlake nayi list mein result store krega\n",
    "ls=list(map(lambda x: x*x,l))\n",
    "print(ls)\n",
    "#reduce - porri list ko ek ele mein tod dega eg sum,max,min nikalna..isme do paramters jyenge or result ek ayega"
   ]
  },
  {
   "cell_type": "code",
   "execution_count": 13,
   "metadata": {},
   "outputs": [
    {
     "data": {
      "text/plain": [
       "'llo, i'"
      ]
     },
     "execution_count": 13,
     "metadata": {},
     "output_type": "execute_result"
    }
   ],
   "source": [
    "#string- sequence of characters, acts like a list and string is immutable\n",
    "st=\"Hello, I am Gracy. My age is 19\"\n",
    "st[2:8] #slicing"
   ]
  },
  {
   "cell_type": "code",
   "execution_count": 16,
   "metadata": {},
   "outputs": [
    {
     "name": "stdout",
     "output_type": "stream",
     "text": [
      "2403028955232\n",
      "2403028955232\n",
      "2403032977584\n"
     ]
    }
   ],
   "source": [
    "s1=\"123\"\n",
    "s2=\"123\"\n",
    "n=123\n",
    "s3=str(n)    #python mein there is no typecasting\n",
    "print(id(s1))\n",
    "print(id(s2))\n",
    "print(id(s3))"
   ]
  },
  {
   "cell_type": "code",
   "execution_count": 24,
   "metadata": {},
   "outputs": [
    {
     "data": {
      "text/plain": [
       "['hello,', 'i', 'am', 'gracy.', 'my', 'age', 'is', '19']"
      ]
     },
     "execution_count": 24,
     "metadata": {},
     "output_type": "execute_result"
    }
   ],
   "source": [
    "ft=\"helloidontwantjeonjungkooktodie\"\n",
    "#capitalize- string ka phla letter capital krega baki string same rhegi\n",
    "#casefold- capital letters ko small mein krdega\n",
    "#lower- does same as casefold\n",
    "#upper- sbhi characters ko upper case mein\n",
    "#endswith- particulr string se end hora hai ya nhi check krega.\n",
    "st.casefold()\n",
    "st.endswith('19')\n",
    "#find- will give index to first occurence of substring given from  string from left side and will give -1 is not present\n",
    "#rside- will do sme but will search for substring from right side. \n",
    "ft.find('want')\n",
    "#index will do same as find but if substring not find then exception rises. \n",
    "ord(ft[2])  #give ascii value \n",
    "st.upper()\n",
    "#replace- kisi chr ko ya string ko kisi or char ya string se replace krega\n",
    "#strip- to removes spaces from left and right of a string\n",
    "#split- string ko kisi regex k basis pe ek list ki form mein return krega\n",
    "st.split(\" \")\n",
    "#join- list k elements ko join krega or unke bich mein string ko dalega jisse or list ko join kr rhe\n",
    "\n"
   ]
  },
  {
   "cell_type": "code",
   "execution_count": 32,
   "metadata": {},
   "outputs": [
    {
     "name": "stdout",
     "output_type": "stream",
     "text": [
      "['sky', 'is', 'blue']\n",
      "['blue', 'is', 'sky']\n",
      "blue is sky\n"
     ]
    }
   ],
   "source": [
    "#1st method\n",
    "str=\"sky is blue\"\n",
    "l=str.split()\n",
    "print(l)\n",
    "l.reverse()\n",
    "print(l)\n",
    "s=' '.join(l)\n",
    "print(s)\n",
    "#2nd method\n",
    "' '.join(str.split(\" \")[::-1])"
   ]
  },
  {
   "cell_type": "code",
   "execution_count": 37,
   "metadata": {},
   "outputs": [
    {
     "name": "stdout",
     "output_type": "stream",
     "text": [
      "Hello, I am Gracy Gulati. My age is 19.\n"
     ]
    }
   ],
   "source": [
    "#string formatting-\n",
    "name=\"Gracy Gulati\"\n",
    "age=19\n",
    "s=f\"Hello, I am {name}. My age is {age}.\"\n",
    "print(s)"
   ]
  },
  {
   "cell_type": "code",
   "execution_count": 41,
   "metadata": {},
   "outputs": [
    {
     "name": "stdout",
     "output_type": "stream",
     "text": [
      "Hello, I am Gracy. My age is 19\n",
      "Hello, I am 19. My age is Gracy\n",
      "Hello, I am Gracy. My age is 19\n"
     ]
    }
   ],
   "source": [
    "s=\"Hello, I am {}. My age is {}\".format(\"Gracy\",19)\n",
    "print(s)\n",
    "s=\"Hello, I am {1}. My age is {0}\".format(\"Gracy\",19)\n",
    "print(s)\n",
    "s=\"Hello, I am {name}. My age is {age}\".format(name=\"Gracy\",age=19)\n",
    "print(s)"
   ]
  }
 ],
 "metadata": {
  "kernelspec": {
   "display_name": "Python 3",
   "language": "python",
   "name": "python3"
  },
  "language_info": {
   "codemirror_mode": {
    "name": "ipython",
    "version": 3
   },
   "file_extension": ".py",
   "mimetype": "text/x-python",
   "name": "python",
   "nbconvert_exporter": "python",
   "pygments_lexer": "ipython3",
   "version": "3.12.1"
  }
 },
 "nbformat": 4,
 "nbformat_minor": 2
}
